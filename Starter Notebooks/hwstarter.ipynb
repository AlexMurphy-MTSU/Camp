{
  "nbformat": 4,
  "nbformat_minor": 0,
  "metadata": {
    "colab": {
      "name": "hwstarter.ipynb",
      "provenance": [],
      "collapsed_sections": []
    },
    "kernelspec": {
      "name": "python3",
      "display_name": "Python 3"
    },
    "language_info": {
      "name": "python"
    }
  },
  "cells": [
    {
      "cell_type": "code",
      "execution_count": null,
      "metadata": {
        "id": "BUHL01Q7BrqT"
      },
      "outputs": [],
      "source": [
        "# Welcome! In this notebook we will explore the most common basic python objects including:\n",
        "# 1) Traditional \"Hello World!\" print\n",
        "# 2) Basic python data types\n",
        "# 3) \"For\" loop\n",
        "# 4) Conditional statement (If/Then)\n",
        "# 5) \"While\" loop\n",
        "# 6) defining Functions\n",
        "# 7) Some commonly used Python packages\n",
        "# We will do some basic practice exercises to illustrate some beginning code. "
      ]
    },
    {
      "cell_type": "code",
      "source": [
        "# 1) We will use the basic output function in python: print(), to print the words \"Hello World\"\n"
      ],
      "metadata": {
        "colab": {
          "base_uri": "https://localhost:8080/"
        },
        "id": "mIHcvRC4oFGk",
        "outputId": "742161e1-15f2-4e42-d26e-61c031e5a307"
      },
      "execution_count": 1,
      "outputs": [
        {
          "output_type": "stream",
          "name": "stdout",
          "text": [
            "Hello World!\n"
          ]
        }
      ]
    },
    {
      "cell_type": "code",
      "source": [
        "# 2) Basic data types! First strings! Which are just bits of text\n",
        "words = \"Hello World!\" \n",
        "# words is the variable where we stored the text \"Hello World!\"\n",
        "# Define a new variable called 'name' with your name.\n",
        "name = \"\"\n",
        "\n",
        "print(f'{words}\\nThis is {name}!')"
      ],
      "metadata": {
        "colab": {
          "base_uri": "https://localhost:8080/"
        },
        "id": "UMSLch4qoXZK",
        "outputId": "f70f2b89-e014-4d3d-e7bd-c97e6e5021bb"
      },
      "execution_count": 2,
      "outputs": [
        {
          "output_type": "stream",
          "name": "stdout",
          "text": [
            "Hello World!\n",
            "This is [Your name here]!\n"
          ]
        }
      ]
    },
    {
      "cell_type": "code",
      "source": [
        "# 2) Integers, Floats, Boolean, they do not need \" \" like strings do. \n",
        "# Integers are positive or negative whole numbers like 2, -7, 1005\n",
        "x = 13\n",
        "# Floats are decimals\n",
        "y = 1.100456\n",
        "# Boolean are true or false values, they can be designated True or False, or can be stored expressions like below\n",
        "z = x > y\n",
        "# Define a new variable a that is a false boolean variable\n",
        "a = \n",
        "\n",
        "print(f'x = {x}\\ny = {y}\\nz = {z}\\na = {a}')"
      ],
      "metadata": {
        "colab": {
          "base_uri": "https://localhost:8080/"
        },
        "id": "Tzkwk0V1pX48",
        "outputId": "f604d565-ea80-4035-975c-557ca3efdb0c"
      },
      "execution_count": 2,
      "outputs": [
        {
          "output_type": "stream",
          "name": "stdout",
          "text": [
            "x = 13\n",
            "y = 1.100456\n",
            "z = True\n",
            "a = False\n"
          ]
        }
      ]
    },
    {
      "cell_type": "code",
      "source": [
        "# 2) Lists or arrays! In python they can be collections of all sorts of objects, even at the same time. They use [ ]  \n",
        "#    We can also define variable names with certain characters like the underscore _\n",
        "list_of_numbers = [2, -7, 1005]\n",
        "list_of_strings = ['Hello', 'World', '!']\n",
        "list_of_lists = [list_of_numbers, list_of_strings]\n",
        "# Define a new list called arr, short for array, that contains a number, a string (text), and an animal\n",
        "arr = [13, 'large', 'bears']\n",
        "\n",
        "print(arr) "
      ],
      "metadata": {
        "colab": {
          "base_uri": "https://localhost:8080/"
        },
        "id": "JMKJ53XLqWOi",
        "outputId": "be410ff1-58fb-48f4-e94e-76627d0580c7"
      },
      "execution_count": 2,
      "outputs": [
        {
          "output_type": "stream",
          "name": "stdout",
          "text": [
            "[13, 'large', 'bears']\n"
          ]
        }
      ]
    },
    {
      "cell_type": "code",
      "source": [
        "# 3) A For loop is a command that tells the machine to go through something like a list one entry at a time and do something\n",
        "# For an example, we can iterate through your list arr\n",
        "for i in arr: \n",
        "  # 'i' is just a placeholder for the entry the loops is looking at within the list arr\n",
        "  # indentation is a must! \n",
        "  print(i)\n",
        "  # What do you think this will do? After you make a guess, run this cell and see if you're right. "
      ],
      "metadata": {
        "id": "gUX7O9sasiLF"
      },
      "execution_count": null,
      "outputs": []
    },
    {
      "cell_type": "code",
      "source": [
        "# 3) We can also do other things while we go through (iterate) the list to create something new\n",
        "# Here we initialize an empty list to house the things we will make\n",
        "new_list = []\n",
        "# Define a phrase or word or text to append\n",
        "suffix = \"\"\n",
        "for i in arr: \n",
        "  new_list.append(str(i)+suffix)\n",
        "# What happened? \n",
        "\n",
        "print(new_list)"
      ],
      "metadata": {
        "colab": {
          "base_uri": "https://localhost:8080/"
        },
        "id": "kBebC9zhtXO4",
        "outputId": "4662dff6-df42-4514-fd04-a02e4dcd6cf5"
      },
      "execution_count": 3,
      "outputs": [
        {
          "output_type": "stream",
          "name": "stdout",
          "text": [
            "['13_dreams', 'large_dreams', 'bears_dreams']\n"
          ]
        }
      ]
    },
    {
      "cell_type": "code",
      "source": [
        "# 4) Using a conditional statement, like If (some condition), Then (do this), Else (do differnet thing)\n",
        "# Basic structure uses an \"if\" statement followed by an \"else\" statement\n",
        "# If the \"if\" condition is met, then the following statement is executed, otherwise, the machine skips to the \"else\" statement\n",
        "if 13 < 100:\n",
        "  # if that's true, do this\n",
        "  print(\"YEET!\")\n",
        "else:\n",
        "  # if the condition is false, skip that and do this\n",
        "  print(\"It's the audactity for me.\")\n",
        "\n",
        "# Run this cell! "
      ],
      "metadata": {
        "id": "Z8ns1TbHvowN"
      },
      "execution_count": null,
      "outputs": []
    },
    {
      "cell_type": "code",
      "source": [
        "# This one will not be true, so it will skip the first command to print 'YEET!' and will execute the other command instead.\n",
        "if 13 > 100:\n",
        "  # if that's true, do this\n",
        "  print(\"YEET!\")\n",
        "else:\n",
        "  # if the condition is false, skip that and do this\n",
        "  print(\"It's the audactity for me.\")\n",
        "\n",
        "# Run this cell! "
      ],
      "metadata": {
        "id": "GVcKngqRw7ou"
      },
      "execution_count": null,
      "outputs": []
    },
    {
      "cell_type": "code",
      "source": [
        "# 5) We can also combine the looping process with a condition statement. The result is called a while loop. \n",
        "# Essentially, we tell the machine, \"While this condition is met, execute these commands\"\n",
        "# It will do so until that condition is False, in which case it will end. \n",
        "# Example \n",
        "# Pick a letter to hunt for.\n",
        "letter = input('Type a single letter to search for.\\n')\n",
        "n = 0\n",
        "check = 1\n",
        "alpha = 'abcdefghijklmnopqrstuvwxyz0123456789'\n",
        "\n",
        "# the loop condition\n",
        "while check == 1:\n",
        "  # is this letter the one you were looking for?\n",
        "  if letter == alpha[n]:\n",
        "    # if yes, change the condition to terminate the loop\n",
        "    check = 0\n",
        "  else:\n",
        "    # otherwise, look at the next letter \n",
        "    n += 1\n",
        "\n",
        "print(f'Search: {letter}\\n{letter} is letter {n+1} in the english alphabet.\\nIn Python, {letter} is in position {n} in the string alphabet.')"
      ],
      "metadata": {
        "colab": {
          "base_uri": "https://localhost:8080/"
        },
        "id": "-eXwg7CGxMgM",
        "outputId": "a0d3e39f-d3aa-47a5-e800-27193d1c790c"
      },
      "execution_count": 7,
      "outputs": [
        {
          "output_type": "stream",
          "name": "stdout",
          "text": [
            "Type a single letter to search for.\n",
            "n\n",
            "Search: n\n",
            "n is letter 14 in the english alphabet.\n",
            "In Python, n is in position 13 in the string alphabet.\n"
          ]
        }
      ]
    },
    {
      "cell_type": "code",
      "source": [
        "# 6) The last kind of object we will look at in this session is the function.\n",
        "# Functions are a way of optimizing long processes into smaller commands. \n",
        "# Defining a function is creating a new command for the machine to recognize in this notebook. \n",
        "# Example\n",
        "def my_example():\n",
        "  print('This function has no inputs.\\nIt will always return this phrase.')\n",
        "  return\n",
        "\n",
        "# by typing just the function name and running the cell, it will execute the new command \"my_example\"\n",
        "my_example()"
      ],
      "metadata": {
        "id": "zJi6zoCw5oOt"
      },
      "execution_count": null,
      "outputs": []
    },
    {
      "cell_type": "code",
      "source": [
        "# 6) We can try another simple example. Mathematically, return the square of the inputted number\n",
        "\n",
        "def square_it(number):\n",
        "  # you could literally use any label in place of 'number', it's just a placeholder.\n",
        "  return number**2\n",
        "\n",
        "print(square_it(14))\n",
        "\n",
        "# try it with a number of your own\n",
        "print(square_it())"
      ],
      "metadata": {
        "colab": {
          "base_uri": "https://localhost:8080/"
        },
        "id": "RYPLtaJy6pYZ",
        "outputId": "09040f38-f6fe-4681-f5eb-1cf4deeb345e"
      },
      "execution_count": 13,
      "outputs": [
        {
          "output_type": "stream",
          "name": "stdout",
          "text": [
            "196\n",
            "10201\n"
          ]
        }
      ]
    },
    {
      "cell_type": "code",
      "source": [
        "# 6) Try to complete this function that should return two numbers added together\n",
        "def add_them(x, y):\n",
        "  # type code here\n",
        "  \n",
        "\n",
        "add_them(10, 14)"
      ],
      "metadata": {
        "colab": {
          "base_uri": "https://localhost:8080/"
        },
        "id": "Xoi5Xg1P7lAy",
        "outputId": "f6eee9c8-3f03-47e7-dac4-c1b9d9e46984"
      },
      "execution_count": 14,
      "outputs": [
        {
          "output_type": "execute_result",
          "data": {
            "text/plain": [
              "24"
            ]
          },
          "metadata": {},
          "execution_count": 14
        }
      ]
    },
    {
      "cell_type": "markdown",
      "source": [
        "That's all for now! We will explore some common packages in the next activity. These have been some basic python data objects! For those curious, there are a tremendous amount of free resources out there for those wanting to learn a few things about coding. "
      ],
      "metadata": {
        "id": "JD2vhdAP8RL9"
      }
    }
  ]
}